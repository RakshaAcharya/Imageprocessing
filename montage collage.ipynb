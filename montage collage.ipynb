{
 "cells": [
  {
   "cell_type": "code",
   "execution_count": 7,
   "id": "22b8ca25",
   "metadata": {},
   "outputs": [
    {
     "name": "stdout",
     "output_type": "stream",
     "text": [
      "(466, 700, 3)\n",
      "(932, 1400, 3)\n"
     ]
    },
    {
     "name": "stderr",
     "output_type": "stream",
     "text": [
      "C:\\Users\\CCL\\AppData\\Local\\Temp\\ipykernel_21256\\1373464947.py:8: FutureWarning: `multichannel` is a deprecated argument name for `montage`. It will be removed in version 1.0. Please use `channel_axis` instead.\n",
      "  m=skimage.util.montage([a,b,c,d],multichannel=True)\n"
     ]
    }
   ],
   "source": [
    "import skimage.io\n",
    "import skimage.util\n",
    "a=skimage.io.imread('pan.jpg')\n",
    "print(a.shape)\n",
    "b=a//2\n",
    "c=a//3\n",
    "d=a//4\n",
    "m=skimage.util.montage([a,b,c,d],multichannel=True)\n",
    "print(m.shape)\n",
    "skimage.io.imsave('skimage_montage_default.jpg',m)"
   ]
  },
  {
   "cell_type": "code",
   "execution_count": null,
   "id": "f0cf9c5d",
   "metadata": {},
   "outputs": [],
   "source": []
  }
 ],
 "metadata": {
  "kernelspec": {
   "display_name": "Python 3 (ipykernel)",
   "language": "python",
   "name": "python3"
  },
  "language_info": {
   "codemirror_mode": {
    "name": "ipython",
    "version": 3
   },
   "file_extension": ".py",
   "mimetype": "text/x-python",
   "name": "python",
   "nbconvert_exporter": "python",
   "pygments_lexer": "ipython3",
   "version": "3.9.13"
  }
 },
 "nbformat": 4,
 "nbformat_minor": 5
}
