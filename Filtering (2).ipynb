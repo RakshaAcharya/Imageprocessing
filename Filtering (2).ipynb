{
 "cells": [
  {
   "cell_type": "code",
   "execution_count": 1,
   "id": "debe87e2",
   "metadata": {},
   "outputs": [],
   "source": [
    "#filtering in blur\n",
    "# Importing Image and ImageFilter module from PIL package\n",
    "from PIL import Image, ImageFilter\n",
    " \n",
    "# creating a image object\n",
    "im1 = Image.open(r\"C:/Users/User/Downloads/dg1.jfif\")\n",
    " \n",
    "# applying the blur filter\n",
    "im2 = im1.filter(ImageFilter.BLUR)\n",
    " \n",
    "im2.show()"
   ]
  },
  {
   "cell_type": "code",
   "execution_count": 2,
   "id": "fed8a218",
   "metadata": {},
   "outputs": [],
   "source": [
    "#filtering in contour\n",
    "# Importing Image and ImageFilter module from PIL package\n",
    "from PIL import Image, ImageFilter\n",
    " \n",
    "# creating a image object\n",
    "im1 = Image.open(r\"C:/Users/User/Downloads/dg1.jfif\")\n",
    " \n",
    "# applying the contour filter\n",
    "im2 = im1.filter(ImageFilter.CONTOUR)\n",
    " \n",
    "im2.show()"
   ]
  },
  {
   "cell_type": "code",
   "execution_count": 3,
   "id": "e6b9d298",
   "metadata": {},
   "outputs": [],
   "source": [
    "#filtering in emboss\n",
    "# Importing Image and ImageFilter module from PIL package\n",
    "from PIL import Image, ImageFilter\n",
    " \n",
    "# creating a image object\n",
    "im1 = Image.open(r\"C:/Users/User/Downloads/dg1.jfif\")\n",
    " \n",
    "# applying the emboss filter\n",
    "im2 = im1.filter(ImageFilter.EMBOSS)\n",
    " \n",
    "im2.show()"
   ]
  },
  {
   "cell_type": "code",
   "execution_count": 4,
   "id": "8046b23f",
   "metadata": {},
   "outputs": [],
   "source": [
    "# filtering in edge enhance\n",
    "# Importing Image and ImageFilter module from PIL package\n",
    "from PIL import Image, ImageFilter\n",
    " \n",
    "# creating a image object\n",
    "im1 = Image.open(r\"C:/Users/User/Downloads/dg1.jfif\")\n",
    " \n",
    "# applying the EDGE_ENHANCE filter\n",
    "im2 = im1.filter(ImageFilter.EDGE_ENHANCE)\n",
    " \n",
    "im2.show()"
   ]
  },
  {
   "cell_type": "code",
   "execution_count": 6,
   "id": "807f0421",
   "metadata": {},
   "outputs": [],
   "source": [
    "#filtering in edge enhance more\n",
    "# Importing Image and ImageFilter module from PIL package\n",
    "from PIL import Image, ImageFilter\n",
    " \n",
    "# creating a image object\n",
    "im1 = Image.open(r\"C:/Users/User/Downloads/dg1.jfif\")\n",
    " \n",
    "# applying the EDGE_ENHANCE_MORE filter\n",
    "im2 = im1.filter(ImageFilter.EDGE_ENHANCE_MORE)\n",
    " \n",
    "im2.show()"
   ]
  },
  {
   "cell_type": "code",
   "execution_count": null,
   "id": "b117e5a4",
   "metadata": {},
   "outputs": [],
   "source": []
  }
 ],
 "metadata": {
  "kernelspec": {
   "display_name": "Python 3 (ipykernel)",
   "language": "python",
   "name": "python3"
  },
  "language_info": {
   "codemirror_mode": {
    "name": "ipython",
    "version": 3
   },
   "file_extension": ".py",
   "mimetype": "text/x-python",
   "name": "python",
   "nbconvert_exporter": "python",
   "pygments_lexer": "ipython3",
   "version": "3.9.7"
  }
 },
 "nbformat": 4,
 "nbformat_minor": 5
}
