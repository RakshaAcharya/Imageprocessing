{
 "cells": [
  {
   "cell_type": "code",
   "execution_count": 13,
   "id": "1d637318",
   "metadata": {},
   "outputs": [],
   "source": [
    "#anti clockwise\n",
    "from PIL import Image\n",
    " \n",
    " \n",
    "img = Image.open('g1.jfif')\n",
    " \n",
    "# flip anti-clockwise\n",
    "flip_img = img.transpose(Image.TRANSPOSE)\n",
    " \n",
    "flip_img.show()"
   ]
  },
  {
   "cell_type": "code",
   "execution_count": 14,
   "id": "aa807172",
   "metadata": {},
   "outputs": [],
   "source": [
    "# clockwise\n",
    "from PIL import Image\n",
    " \n",
    " \n",
    "img  = Image.open('g1.jfif')\n",
    " \n",
    "# flip clockwise\n",
    "flip_img= img.transpose(Image.TRANSVERSE)\n",
    " \n",
    "flip_img.show()"
   ]
  },
  {
   "cell_type": "code",
   "execution_count": 4,
   "id": "96a38264",
   "metadata": {},
   "outputs": [],
   "source": [
    "#horizontal\n",
    "from PIL import Image\n",
    " \n",
    " \n",
    "img = Image.open('g1.jfif')\n",
    " \n",
    "# flip horizontal\n",
    "flip_img = img.transpose(Image.FLIP_LEFT_RIGHT)\n",
    " \n",
    "flip_img.show()"
   ]
  },
  {
   "cell_type": "code",
   "execution_count": 15,
   "id": "ba86aef6",
   "metadata": {},
   "outputs": [],
   "source": [
    "#vertical\n",
    "from PIL import Image\n",
    " \n",
    " \n",
    "img = Image.open('g1.jfif')\n",
    " \n",
    "# flip vertical\n",
    "flip_img = img.transpose(Image.FLIP_TOP_BOTTOM)\n",
    " \n",
    "flip_img.show()"
   ]
  },
  {
   "cell_type": "code",
   "execution_count": 6,
   "id": "89cca538",
   "metadata": {},
   "outputs": [],
   "source": [
    "#vertical\n",
    "import cv2\n",
    "\n",
    "# read input image\n",
    "img = cv2.imread('g1.jfif')\n",
    "\n",
    "# flip the image by vertically\n",
    "img_v = cv2.flip(img, 0)\n",
    "\n",
    "# display the rotated image\n",
    "cv2.imshow(\"Vertical Flip\", img_v)\n",
    "cv2.waitKey(0)\n",
    "cv2.destroyAllWindows()"
   ]
  },
  {
   "cell_type": "code",
   "execution_count": 16,
   "id": "76b0a0de",
   "metadata": {},
   "outputs": [],
   "source": [
    "#horizontal\n",
    "import cv2\n",
    "\n",
    "# read input image\n",
    "img = cv2.imread('g1.jfif')\n",
    "\n",
    "# flip the image by horizontally\n",
    "img_h = cv2.flip(img, 1)\n",
    "\n",
    "# display the rotated image\n",
    "cv2.imshow(\"Horizontal Flip\", img_h)\n",
    "cv2.waitKey(0)\n",
    "cv2.destroyAllWindows()"
   ]
  },
  {
   "cell_type": "code",
   "execution_count": 9,
   "id": "4dfd1ac0",
   "metadata": {},
   "outputs": [],
   "source": [
    "#vertical and horizontal\n",
    "import cv2\n",
    "\n",
    "# read input image\n",
    "img = cv2.imread('g1.jfif')\n",
    "\n",
    "# rotate the image both vertically and horizontally\n",
    "img_vh = cv2.flip(img, -1)\n",
    "\n",
    "# display the rotated image\n",
    "cv2.imshow(\"Both vertical and horizontal flip\", img_vh)\n",
    "cv2.waitKey(0)\n",
    "cv2.destroyAllWindows()"
   ]
  },
  {
   "cell_type": "code",
   "execution_count": 27,
   "id": "86cd0e82",
   "metadata": {},
   "outputs": [],
   "source": [
    "#sharpening\n",
    "import cv2\n",
    "import numpy as np\n",
    "image=cv2.imread('g1.jfif',flags=cv2.IMREAD_COLOR)\n",
    "cv2.imshow('avathar girl',image)\n",
    "cv2.waitKey()\n",
    "cv2.destroyAllWindows()\n"
   ]
  },
  {
   "cell_type": "code",
   "execution_count": 25,
   "id": "ce11c391",
   "metadata": {
    "scrolled": true
   },
   "outputs": [
    {
     "data": {
      "image/png": "[encoded data removed]",
      "text/plain": [
       "<Figure size 432x288 with 1 Axes>"
      ]
     },
     "metadata": {
      "needs_background": "light"
     },
     "output_type": "display_data"
    }
   ],
   "source": [
    "#croping of an image\n",
    "from PIL import Image\n",
    "import matplotlib.pyplot as plt\n",
    "im=Image.open('g1.jfif')\n",
    "width,height=im.size\n",
    "im1=im.crop((50,40,160,809))\n",
    "im1.show()\n",
    "plt.imshow(im1)\n",
    "plt.show()"
   ]
  },
  {
   "cell_type": "code",
   "execution_count": null,
   "id": "415fafe3",
   "metadata": {},
   "outputs": [],
   "source": []
  }
 ],
 "metadata": {
  "kernelspec": {
   "display_name": "Python 3 (ipykernel)",
   "language": "python",
   "name": "python3"
  },
  "language_info": {
   "codemirror_mode": {
    "name": "ipython",
    "version": 3
   },
   "file_extension": ".py",
   "mimetype": "text/x-python",
   "name": "python",
   "nbconvert_exporter": "python",
   "pygments_lexer": "ipython3",
   "version": "3.9.7"
  }
 },
 "nbformat": 4,
 "nbformat_minor": 5
}
