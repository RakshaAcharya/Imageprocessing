{
 "cells": [
  {
   "cell_type": "code",
   "execution_count": 8,
   "id": "c889915b",
   "metadata": {},
   "outputs": [],
   "source": [
    "import cv2\n",
    "\n",
    "# Read the image on which we are going to apply watermark\n",
    "img = cv2.imread(\"pan.jpg\")\n",
    "\n",
    "# Read the watermark image\n",
    "wm = cv2.imread(\"text.png\")\n",
    "\n",
    "# height and width of the watermark image\n",
    "h_wm, w_wm = wm.shape[:2]\n",
    "\n",
    "# height and width of the image\n",
    "h_img, w_img = img.shape[:2]\n",
    "\n",
    "# calculate coordinates of center of image\n",
    "center_x = int(w_img/2)\n",
    "center_y = int(h_img/2)\n",
    "\n",
    "# calculate rio from top, bottom, right and left\n",
    "top_y = center_y - int(h_wm/2)\n",
    "left_x = center_x - int(w_wm/2)\n",
    "bottom_y = top_y + h_wm\n",
    "right_x = left_x + w_wm\n",
    "\n",
    "# add watermark to the image\n",
    "roi = img[top_y:bottom_y, left_x:right_x]\n",
    "result = cv2.addWeighted(roi, 1, wm, 0.3, 0)\n",
    "img[top_y:bottom_y, left_x:right_x] = result\n",
    "\n",
    "# display watermarked image\n",
    "cv2.imshow(\"Watermarked Image\", img)\n",
    "cv2.waitKey(0)\n",
    "cv2.destroyAllWindows()"
   ]
  },
  {
   "cell_type": "code",
   "execution_count": null,
   "id": "3b6a8ea7",
   "metadata": {},
   "outputs": [],
   "source": []
  }
 ],
 "metadata": {
  "kernelspec": {
   "display_name": "Python 3 (ipykernel)",
   "language": "python",
   "name": "python3"
  },
  "language_info": {
   "codemirror_mode": {
    "name": "ipython",
    "version": 3
   },
   "file_extension": ".py",
   "mimetype": "text/x-python",
   "name": "python",
   "nbconvert_exporter": "python",
   "pygments_lexer": "ipython3",
   "version": "3.9.13"
  }
 },
 "nbformat": 4,
 "nbformat_minor": 5
}
