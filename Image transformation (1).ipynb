{
 "cells": [
  {
   "cell_type": "code",
   "execution_count": 2,
   "id": "49af1094",
   "metadata": {},
   "outputs": [
    {
     "ename": "error",
     "evalue": "OpenCV(4.6.0) D:\\a\\opencv-python\\opencv-python\\opencv\\modules\\highgui\\src\\window.cpp:967: error: (-215:Assertion failed) size.width>0 && size.height>0 in function 'cv::imshow'\n",
     "output_type": "error",
     "traceback": [
      "\u001b[1;31m---------------------------------------------------------------------------\u001b[0m",
      "\u001b[1;31merror\u001b[0m                                     Traceback (most recent call last)",
      "\u001b[1;32m~\\AppData\\Local\\Temp/ipykernel_2100/1709061165.py\u001b[0m in \u001b[0;36m<module>\u001b[1;34m\u001b[0m\n\u001b[0;32m     14\u001b[0m \u001b[1;31m# with the Bitwise AND operation\u001b[0m\u001b[1;33m\u001b[0m\u001b[1;33m\u001b[0m\u001b[0m\n\u001b[0;32m     15\u001b[0m \u001b[1;31m# on the input images\u001b[0m\u001b[1;33m\u001b[0m\u001b[1;33m\u001b[0m\u001b[0m\n\u001b[1;32m---> 16\u001b[1;33m \u001b[0mcv2\u001b[0m\u001b[1;33m.\u001b[0m\u001b[0mimshow\u001b[0m\u001b[1;33m(\u001b[0m\u001b[1;34m'Bitwise And'\u001b[0m\u001b[1;33m,\u001b[0m \u001b[0mdest_and\u001b[0m\u001b[1;33m)\u001b[0m\u001b[1;33m\u001b[0m\u001b[1;33m\u001b[0m\u001b[0m\n\u001b[0m\u001b[0;32m     17\u001b[0m \u001b[1;33m\u001b[0m\u001b[0m\n\u001b[0;32m     18\u001b[0m \u001b[1;31m# De-allocate any associated memory usage\u001b[0m\u001b[1;33m\u001b[0m\u001b[1;33m\u001b[0m\u001b[0m\n",
      "\u001b[1;31merror\u001b[0m: OpenCV(4.6.0) D:\\a\\opencv-python\\opencv-python\\opencv\\modules\\highgui\\src\\window.cpp:967: error: (-215:Assertion failed) size.width>0 && size.height>0 in function 'cv::imshow'\n"
     ]
    }
   ],
   "source": []
  },
  {
   "cell_type": "code",
   "execution_count": 1,
   "id": "4022f5e1",
   "metadata": {},
   "outputs": [],
   "source": [
    "#image translation\n",
    "import numpy as np\n",
    "import cv2 as cv\n",
    "img = cv.imread('C:/Users/User/Downloads/girl.jfif', 0)\n",
    "rows, cols = img.shape\n",
    "M = np.float32([[1, 0, 100], [0, 1, 50]])\n",
    "dst = cv.warpAffine(img, M, (cols, rows))\n",
    "cv.imshow('img', dst)\n",
    "cv.waitKey(0)\n",
    "cv.destroyAllWindows()"
   ]
  },
  {
   "cell_type": "code",
   "execution_count": 4,
   "id": "18aaf5a3",
   "metadata": {},
   "outputs": [],
   "source": [
    "#image reflection\n",
    "import numpy as np\n",
    "import cv2 as cv\n",
    "img = cv.imread('C:/Users/User/Downloads/girl.jfif', 0)\n",
    "rows, cols = img.shape\n",
    "M = np.float32([[1,  0, 0],\n",
    "                [0, -1, rows],\n",
    "                [0,  0, 1]])\n",
    "reflected_img = cv.warpPerspective(img, M,\n",
    "                                   (int(cols),\n",
    "                                    int(rows)))\n",
    "cv.imshow('img', reflected_img)\n",
    "cv.imwrite('reflection_out.jpg', reflected_img)\n",
    "cv.waitKey(0)\n",
    "cv.destroyAllWindows()"
   ]
  },
  {
   "cell_type": "code",
   "execution_count": 5,
   "id": "4f7a28c0",
   "metadata": {},
   "outputs": [],
   "source": [
    "#image rotation\n",
    "import numpy as np\n",
    "import cv2 as cv\n",
    "img = cv.imread('C:/Users/User/Downloads/girl.jfif', 0)\n",
    "rows, cols = img.shape\n",
    "M = np.float32([[1,  0, 0], [0, -1, rows], [0,  0, 1]])\n",
    "img_rotation = cv.warpAffine(img,\n",
    "                             cv.getRotationMatrix2D((cols/2, rows/2),\n",
    "                                                    30, 0.6),\n",
    "                             (cols, rows))\n",
    "cv.imshow('img', img_rotation)\n",
    "cv.imwrite('rotation_out.jpg', img_rotation)\n",
    "cv.waitKey(0)\n",
    "cv.destroyAllWindows()"
   ]
  },
  {
   "cell_type": "code",
   "execution_count": 6,
   "id": "022db4a0",
   "metadata": {},
   "outputs": [],
   "source": [
    "#image scaling\n",
    "import numpy as np\n",
    "import cv2 as cv\n",
    "img = cv.imread('C:/Users/User/Downloads/girl.jfif', 0)\n",
    "rows, cols = img.shape\n",
    "img_shrinked = cv.resize(img, (250, 200),\n",
    "                         interpolation=cv.INTER_AREA)\n",
    "cv.imshow('img', img_shrinked)\n",
    "img_enlarged = cv.resize(img_shrinked, None,\n",
    "                         fx=1.5, fy=1.5,\n",
    "                         interpolation=cv.INTER_CUBIC)\n",
    "cv.imshow('img', img_enlarged)\n",
    "cv.waitKey(0)\n",
    "cv.destroyAllWindows()"
   ]
  },
  {
   "cell_type": "code",
   "execution_count": 1,
   "id": "414d95c0",
   "metadata": {},
   "outputs": [],
   "source": [
    "#image croping\n",
    "import numpy as np\n",
    "import cv2 as cv\n",
    "img = cv.imread('C:/Users/User/Downloads/girl.jfif', 0)\n",
    "cropped_img = img[10:30, 100:300]\n",
    "cv.imwrite('cropped_out.jpg', cropped_img)\n",
    "cv.waitKey(0)\n",
    "cv.destroyAllWindows()"
   ]
  },
  {
   "cell_type": "code",
   "execution_count": 2,
   "id": "5399ef02",
   "metadata": {},
   "outputs": [],
   "source": [
    "#image shearing in x-axis\n",
    "import numpy as np\n",
    "import cv2 as cv\n",
    "img = cv.imread('C:/Users/User/Downloads/girl.jfif', 0)\n",
    "rows, cols = img.shape\n",
    "M = np.float32([[1, 0.5, 0], [0, 1, 0], [0, 0, 1]])\n",
    "sheared_img = cv.warpPerspective(img, M, (int(cols*1.5), int(rows*1.5)))\n",
    "cv.imshow('img', sheared_img)\n",
    "cv.waitKey(0)\n",
    "cv.destroyAllWindows()"
   ]
  },
  {
   "cell_type": "code",
   "execution_count": 15,
   "id": "0253d763",
   "metadata": {},
   "outputs": [],
   "source": [
    "#image shearing in y-axis\n",
    "import numpy as np\n",
    "import cv2 as cv\n",
    "img = cv.imread('C:/Users/User/Downloads/girl.jfif', 0)\n",
    "rows, cols = img.shape\n",
    "M = np.float32([[1,   0, 0], [0.5, 1, 0], [0,   0, 1]])\n",
    "sheared_img = cv.warpPerspective(img, M, (int(cols*1.5), int(rows*1.5)))\n",
    "cv.imshow('sheared_y-axis_out.jpg', sheared_img)\n",
    "cv.waitKey(0)\n",
    "cv.destroyAllWindows()"
   ]
  },
  {
   "cell_type": "code",
   "execution_count": 22,
   "id": "5bf10595",
   "metadata": {},
   "outputs": [
    {
     "name": "stdout",
     "output_type": "stream",
     "text": [
      "Image Shape: 225 225\n",
      "Original Image:\n",
      "Down Sampled Image:\n",
      "Up Sampled Image:\n"
     ]
    },
    {
     "name": "stderr",
     "output_type": "stream",
     "text": [
      "C:\\Users\\User\\AppData\\Local\\Temp/ipykernel_2100/2559606250.py:29: DeprecationWarning: `np.int` is a deprecated alias for the builtin `int`. To silence this warning, use `int` by itself. Doing this will not modify any behavior and is safe. When replacing `np.int`, you may wish to use e.g. `np.int64` or `np.int32` to specify the precision. If you wish to review your current use, check the release note link for additional information.\n",
      "Deprecated in NumPy 1.20; for more details and guidance: https://numpy.org/devdocs/release/1.20.0-notes.html#deprecations\n",
      "  img2 = np.zeros((m//f, n//f), dtype=np.int)\n",
      "C:\\Users\\User\\AppData\\Local\\Temp/ipykernel_2100/2559606250.py:53: DeprecationWarning: `np.int` is a deprecated alias for the builtin `int`. To silence this warning, use `int` by itself. Doing this will not modify any behavior and is safe. When replacing `np.int`, you may wish to use e.g. `np.int64` or `np.int32` to specify the precision. If you wish to review your current use, check the release note link for additional information.\n",
      "Deprecated in NumPy 1.20; for more details and guidance: https://numpy.org/devdocs/release/1.20.0-notes.html#deprecations\n",
      "  img3 = np.zeros((m, n), dtype=np.int)\n"
     ]
    },
    {
     "data": {
      "text/plain": [
       "<matplotlib.image.AxesImage at 0x21f619e2ee0>"
      ]
     },
     "execution_count": 22,
     "metadata": {},
     "output_type": "execute_result"
    },
    {
     "data": {
      "image/png": "[encoded data removed]",
      "text/plain": [
       "<Figure size 432x288 with 1 Axes>"
      ]
     },
     "metadata": {
      "needs_background": "light"
     },
     "output_type": "display_data"
    }
   ],
   "source": [
    "#image sampling\n",
    "# Import cv2, matplotlib, numpy\n",
    "import cv2\n",
    "import matplotlib.pyplot as plt\n",
    "import numpy as np\n",
    "  \n",
    "  \n",
    "# Read the original image and know its type\n",
    "img1 = cv2.imread('C:/Users/User/Downloads/girl.jfif', 0)\n",
    "  \n",
    "# Obtain the size of the original image\n",
    "[m, n] = img1.shape\n",
    "print('Image Shape:', m, n)\n",
    "  \n",
    "# Show original image\n",
    "print('Original Image:')\n",
    "plt.imshow(img1, cmap=\"gray\")\n",
    "  \n",
    "  \n",
    "# Down sampling\n",
    "  \n",
    "# Assign a down sampling rate\n",
    "# Here we are down sampling the\n",
    "# image by 4\n",
    "f = 4\n",
    "  \n",
    "# Create a matrix of all zeros for\n",
    "# downsampled values\n",
    "img2 = np.zeros((m//f, n//f), dtype=np.int)\n",
    "  \n",
    "# Assign the down sampled values from the original\n",
    "# image according to the down sampling frequency.\n",
    "# For example, if the down sampling rate f=2, take\n",
    "# pixel values from alternate rows and columns\n",
    "# and assign them in the matrix created above\n",
    "for i in range(0, m, f):\n",
    "    for j in range(0, n, f):\n",
    "        try:\n",
    "  \n",
    "            img2[i//f][j//f] = img1[i][j]\n",
    "        except IndexError:\n",
    "            pass\n",
    "  \n",
    "  \n",
    "# Show down sampled image\n",
    "print('Down Sampled Image:')\n",
    "plt.imshow(img2, cmap=\"gray\")\n",
    "  \n",
    "  \n",
    "# Up sampling\n",
    "  \n",
    "# Create matrix of zeros to store the upsampled image\n",
    "img3 = np.zeros((m, n), dtype=np.int)\n",
    "# new size\n",
    "for i in range(0, m-1, f):\n",
    "    for j in range(0, n-1, f):\n",
    "        img3[i, j] = img2[i//f][j//f]\n",
    "  \n",
    "# Nearest neighbour interpolation-Replication\n",
    "# Replicating rows\n",
    "  \n",
    "for i in range(1, m-(f-1), f):\n",
    "    for j in range(0, n-(f-1)):\n",
    "        img3[i:i+(f-1), j] = img3[i-1, j]\n",
    "  \n",
    "# Replicating columns\n",
    "for i in range(0, m-1):\n",
    "    for j in range(1, n-1, f):\n",
    "        img3[i, j:j+(f-1)] = img3[i, j-1]\n",
    "  \n",
    "# Plot the up sampled image\n",
    "print('Up Sampled Image:')\n",
    "plt.imshow(img3, cmap=\"gray\")"
   ]
  },
  {
   "cell_type": "code",
   "execution_count": 7,
   "id": "7681817a",
   "metadata": {},
   "outputs": [],
   "source": [
    "#bitwise image AND\n",
    "# import required libraries\n",
    "import cv2\n",
    "\n",
    "# read two input images.\n",
    "# The size of both images must be the same.\n",
    "img1 = cv2.imread('C:/Users/User/Downloads/boy.jfif')\n",
    "img2 = cv2.imread('C:/Users/User/Downloads/boy.jfif')\n",
    "\n",
    "# compute bitwise AND on both images\n",
    "and_img = cv2.bitwise_and(img1,img2)\n",
    "\n",
    "# display the computed bitwise AND image\n",
    "cv2.imshow('Bitwise AND Image', and_img)\n",
    "cv2.waitKey(0)\n",
    "cv2.destroyAllWindows()"
   ]
  },
  {
   "cell_type": "code",
   "execution_count": 31,
   "id": "5c39d08c",
   "metadata": {},
   "outputs": [
    {
     "ename": "error",
     "evalue": "OpenCV(4.6.0) D:\\a\\opencv-python\\opencv-python\\opencv\\modules\\core\\src\\arithm.cpp:214: error: (-209:Sizes of input arguments do not match) The operation is neither 'array op array' (where arrays have the same size and type), nor 'array op scalar', nor 'scalar op array' in function 'cv::binary_op'\n",
     "output_type": "error",
     "traceback": [
      "\u001b[1;31m---------------------------------------------------------------------------\u001b[0m",
      "\u001b[1;31merror\u001b[0m                                     Traceback (most recent call last)",
      "\u001b[1;32m~\\AppData\\Local\\Temp/ipykernel_2100/318517828.py\u001b[0m in \u001b[0;36m<module>\u001b[1;34m\u001b[0m\n\u001b[0;32m     10\u001b[0m \u001b[1;31m# cv2.bitwise_or is applied over the\u001b[0m\u001b[1;33m\u001b[0m\u001b[1;33m\u001b[0m\u001b[0m\n\u001b[0;32m     11\u001b[0m \u001b[1;31m# image inputs with applied parameters\u001b[0m\u001b[1;33m\u001b[0m\u001b[1;33m\u001b[0m\u001b[0m\n\u001b[1;32m---> 12\u001b[1;33m \u001b[0mdest_or\u001b[0m \u001b[1;33m=\u001b[0m \u001b[0mcv2\u001b[0m\u001b[1;33m.\u001b[0m\u001b[0mbitwise_or\u001b[0m\u001b[1;33m(\u001b[0m\u001b[0mimg2\u001b[0m\u001b[1;33m,\u001b[0m \u001b[0mimg1\u001b[0m\u001b[1;33m,\u001b[0m \u001b[0mmask\u001b[0m \u001b[1;33m=\u001b[0m \u001b[1;32mNone\u001b[0m\u001b[1;33m)\u001b[0m\u001b[1;33m\u001b[0m\u001b[1;33m\u001b[0m\u001b[0m\n\u001b[0m\u001b[0;32m     13\u001b[0m \u001b[1;33m\u001b[0m\u001b[0m\n\u001b[0;32m     14\u001b[0m \u001b[1;31m# the window showing output image\u001b[0m\u001b[1;33m\u001b[0m\u001b[1;33m\u001b[0m\u001b[0m\n",
      "\u001b[1;31merror\u001b[0m: OpenCV(4.6.0) D:\\a\\opencv-python\\opencv-python\\opencv\\modules\\core\\src\\arithm.cpp:214: error: (-209:Sizes of input arguments do not match) The operation is neither 'array op array' (where arrays have the same size and type), nor 'array op scalar', nor 'scalar op array' in function 'cv::binary_op'\n"
     ]
    }
   ],
   "source": [
    "#bitwise image or\n",
    "import cv2 \n",
    "import numpy as np \n",
    "     \n",
    "# path to input images are specified and   \n",
    "# images are loaded with imread command  \n",
    "img1 = cv2.imread('C:/Users/User/Downloads/boy.jfif')  \n",
    "img2 = cv2.imread('C:/Users/User/Downloads/girl.jfif') \n",
    "  \n",
    "# cv2.bitwise_or is applied over the\n",
    "# image inputs with applied parameters \n",
    "dest_or = cv2.bitwise_or(img2, img1, mask = None)\n",
    "  \n",
    "# the window showing output image\n",
    "# with the Bitwise OR operation\n",
    "# on the input images\n",
    "cv2.imshow('Bitwise OR', dest_or)\n",
    "   \n",
    "# De-allocate any associated memory usage  \n",
    "if cv2.waitKey(0) & 0xff == 27: \n",
    "    cv2.destroyAllWindows() "
   ]
  },
  {
   "cell_type": "code",
   "execution_count": 8,
   "id": "ed7e0d88",
   "metadata": {},
   "outputs": [],
   "source": [
    "#bitwise xor\n",
    "import cv2 \n",
    "import numpy as np \n",
    "     \n",
    "# path to input images are specified and   \n",
    "# images are loaded with imread command  \n",
    "img1 = cv2.imread('C:/Users/User/Downloads/girl.jfif')  \n",
    "img2 = cv2.imread('C:/Users/User/Downloads/girl.jfif') \n",
    "  \n",
    "# cv2.bitwise_xor is applied over the\n",
    "# image inputs with applied parameters \n",
    "dest_xor = cv2.bitwise_xor(img1, img2, mask = None)\n",
    "  \n",
    "# the window showing output image\n",
    "# with the Bitwise XOR operation\n",
    "# on the input images\n",
    "cv2.imshow('Bitwise XOR', dest_xor)\n",
    "   \n",
    "# De-allocate any associated memory usage  \n",
    "if cv2.waitKey(0) & 0xff == 27: \n",
    "    cv2.destroyAllWindows() "
   ]
  },
  {
   "cell_type": "code",
   "execution_count": 10,
   "id": "6aada52f",
   "metadata": {},
   "outputs": [],
   "source": [
    "#bitwise not\n",
    "import cv2 \n",
    "import numpy as np \n",
    "     \n",
    "# path to input images are specified and   \n",
    "# images are loaded with imread command  \n",
    "img1 = cv2.imread('C:/Users/User/Downloads/girl.jfif')  \n",
    "img2 = cv2.imread('C:/Users/User/Downloads/boy.jfif') \n",
    "  \n",
    "# cv2.bitwise_not is applied over the\n",
    "# image input with applied parameters \n",
    "dest_not1 = cv2.bitwise_not(img1, mask = None)\n",
    "dest_not2 = cv2.bitwise_not(img2, mask = None)\n",
    "  \n",
    "# the windows showing output image\n",
    "# with the Bitwise NOT operation\n",
    "# on the 1st and 2nd input image\n",
    "cv2.imshow('Bitwise NOT on image 1', dest_not1)\n",
    "cv2.imshow('Bitwise NOT on image 2', dest_not2)\n",
    "   \n",
    "# De-allocate any associated memory usage  \n",
    "if cv2.waitKey(0) & 0xff == 27: \n",
    "    cv2.destroyAllWindows() "
   ]
  },
  {
   "cell_type": "code",
   "execution_count": 47,
   "id": "80d79f12",
   "metadata": {},
   "outputs": [],
   "source": [
    "# importing opencv\n",
    "import cv2\n",
    "  \n",
    "# reading the images\n",
    "circle = cv2.imread('C:/Users/User/Downloads/star.png')\n",
    "star = cv2.imread('C:/Users/User/Downloads/star.png')\n",
    "  \n",
    "# subtract the images\n",
    "subtracted = cv2.subtract(star, circle)\n",
    "  \n",
    "# TO show the output\n",
    "cv2.imshow('image', subtracted)\n",
    "  \n",
    "# To close the window\n",
    "cv2.waitKey(0)\n",
    "cv2.destroyAllWindows()"
   ]
  },
  {
   "cell_type": "code",
   "execution_count": 49,
   "id": "200d653a",
   "metadata": {},
   "outputs": [
    {
     "data": {
      "image/png": "[encoded data removed]",
      "text/plain": [
       "<Figure size 432x288 with 1 Axes>"
      ]
     },
     "metadata": {
      "needs_background": "light"
     },
     "output_type": "display_data"
    }
   ],
   "source": [
    "# import required libraries\n",
    "import cv2\n",
    "import matplotlib.pyplot as plt\n",
    "# Read two images\n",
    "img1 = cv2.imread('C:/Users/User/Downloads/boy.jfif')\n",
    "img2 = cv2.imread('C:/Users/User/Downloads/star.png')\n",
    "\n",
    "\n",
    "def subtract_images(img1, img2):\n",
    "            \n",
    "    height1, width1 = img1.shape[0],img1.shape[1]\n",
    "    height2, width2 = img2.shape[0],img2.shape[1]\n",
    "    \n",
    "    min_height = min(height1, height2)\n",
    "    min_width = min(width1, width2)\n",
    "    \n",
    "    img11 = img1[0:min_height, 0:min_width]\n",
    "    img22 = img2[0:min_height, 0:min_width]\n",
    "    \n",
    "    img_sub = cv2.subtract(img11, img22)    \n",
    "    \n",
    "    img1[0:min_height,0:min_width] = img_sub\n",
    "    \n",
    "    return img1\n",
    "\n",
    "\n",
    "img_sub_result = subtract_images(img1, img2)\n",
    "\n",
    "\n",
    "# cv2.imshow('Subtracted image',img_sub_result)\n",
    "# cv2.waitKey(0)\n",
    "# cv2.destroyAllWindows()\n",
    "\n",
    "\n",
    "# Convert the image from BGR to RGB\n",
    "img_sub_result = cv2.cvtColor(img_sub_result, cv2.COLOR_BGR2RGB)\n",
    "plt.imshow(img_sub_result)\n",
    "plt.show()"
   ]
  },
  {
   "cell_type": "code",
   "execution_count": 5,
   "id": "f57b278e",
   "metadata": {},
   "outputs": [],
   "source": [
    "#image addition\n",
    "import cv2\n",
    "  \n",
    "# Read Image1\n",
    "rx1 = cv2.imread('C:/Users/User/Pictures/rx1.jpg', 1)\n",
    "  \n",
    "# Read image2\n",
    "rx2 = cv2.imread('C:/Users/User/Pictures/rx2.jpg', 1)\n",
    "  \n",
    "# Add the images\n",
    "img = cv2.add(rx1,rx2)\n",
    "  \n",
    "# Show the image\n",
    "cv2.imshow('image', img)\n",
    "  \n",
    "# Wait for a key\n",
    "cv2.waitKey(0)\n",
    "  \n",
    "# Distroy all the window open\n",
    "cv2.destroyAllWindows()\n"
   ]
  },
  {
   "cell_type": "code",
   "execution_count": 6,
   "id": "d5be2abc",
   "metadata": {},
   "outputs": [],
   "source": [
    "# image subtaction\n",
    "# importing opencv\n",
    "import cv2\n",
    "  \n",
    "# reading the images\n",
    "rx3 = cv2.imread('C:/Users/User/Pictures/rx3.jpg')\n",
    "rx4 = cv2.imread('C:/Users/User/Pictures/rx4.jpg')\n",
    "  \n",
    "# subtract the images\n",
    "subtracted = cv2.subtract(rx3,rx4)\n",
    "  \n",
    "# TO show the output\n",
    "cv2.imshow('image', subtracted)\n",
    "  \n",
    "# To close the window\n",
    "cv2.waitKey(0)\n",
    "cv2.destroyAllWindows()\n"
   ]
  },
  {
   "cell_type": "code",
   "execution_count": null,
   "id": "5a7d61e6",
   "metadata": {},
   "outputs": [],
   "source": []
  }
 ],
 "metadata": {
  "kernelspec": {
   "display_name": "Python 3 (ipykernel)",
   "language": "python",
   "name": "python3"
  },
  "language_info": {
   "codemirror_mode": {
    "name": "ipython",
    "version": 3
   },
   "file_extension": ".py",
   "mimetype": "text/x-python",
   "name": "python",
   "nbconvert_exporter": "python",
   "pygments_lexer": "ipython3",
   "version": "3.9.7"
  }
 },
 "nbformat": 4,
 "nbformat_minor": 5
}
