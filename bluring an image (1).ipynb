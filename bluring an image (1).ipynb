{
 "cells": [
  {
   "cell_type": "code",
   "execution_count": null,
   "id": "a1dc5be2",
   "metadata": {},
   "outputs": [],
   "source": [
    "# Importing cv2 module\n",
    "import cv2 \n",
    "  \n",
    "# bat.jpg is the batman image.\n",
    "img = cv2.imread('C:/Users/User/Downloads/dg1.jfif') \n",
    "  \n",
    "# make sure that you have saved it in the same folder\n",
    "# You can change the kernel size as you want\n",
    "blurImg = cv2.blur(img,(10,10)) \n",
    "cv2.imshow('blurred image',blurImg)\n",
    "  \n",
    "cv2.waitKey(0)\n",
    "cv2.destroyAllWindows()"
   ]
  },
  {
   "cell_type": "code",
   "execution_count": 4,
   "id": "f7d7d5ed",
   "metadata": {},
   "outputs": [],
   "source": [
    "# importing opencv CV2 module\n",
    "import cv2 \n",
    "  \n",
    "# bat.jpg is the batman image.\n",
    "img = cv2.imread('C:/Users/User/Downloads/dg1.jfif')\n",
    "   \n",
    "# make sure that you have saved it in the same folder\n",
    "# Averaging\n",
    "# You can change the kernel size as you want\n",
    "avging = cv2.blur(img,(10,10))\n",
    "   \n",
    "cv2.imshow('Averaging',avging)\n",
    "cv2.waitKey(0)\n",
    "  \n",
    "# Gaussian Blurring\n",
    "# Again, you can change the kernel size\n",
    "gausBlur = cv2.GaussianBlur(img, (5,5),9) \n",
    "cv2.imshow('Gaussian Blurring', gausBlur)\n",
    "cv2.waitKey(0)\n",
    "  \n",
    "# Median blurring\n",
    "medBlur = cv2.medianBlur(img,5)\n",
    "cv2.imshow('Media Blurring', medBlur)\n",
    "cv2.waitKey(0)\n",
    "  \n",
    "# Bilateral Filtering\n",
    "bilFilter = cv2.bilateralFilter(img,9,75,75)\n",
    "cv2.imshow('Bilateral Filtering', bilFilter)\n",
    "cv2.waitKey(0)\n",
    "cv2.destroyAllWindows()"
   ]
  },
  {
   "cell_type": "code",
   "execution_count": null,
   "id": "334bb6ce",
   "metadata": {},
   "outputs": [],
   "source": []
  }
 ],
 "metadata": {
  "kernelspec": {
   "display_name": "Python 3 (ipykernel)",
   "language": "python",
   "name": "python3"
  },
  "language_info": {
   "codemirror_mode": {
    "name": "ipython",
    "version": 3
   },
   "file_extension": ".py",
   "mimetype": "text/x-python",
   "name": "python",
   "nbconvert_exporter": "python",
   "pygments_lexer": "ipython3",
   "version": "3.9.7"
  }
 },
 "nbformat": 4,
 "nbformat_minor": 5
}
