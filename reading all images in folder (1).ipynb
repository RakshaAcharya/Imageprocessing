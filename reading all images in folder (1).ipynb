{
 "cells": [
  {
   "cell_type": "code",
   "execution_count": 6,
   "id": "43c1169a",
   "metadata": {},
   "outputs": [],
   "source": [
    "from PIL import Image\n",
    "import os\n",
    "#Import all the enhancement filter from pillow\n",
    "from PIL.ImageFilter import (\n",
    "   BLUR, CONTOUR, DETAIL, EDGE_ENHANCE, EDGE_ENHANCE_MORE,\n",
    "   EMBOSS, FIND_EDGES, SMOOTH, SMOOTH_MORE, SHARPEN\n",
    ")\n",
    "path=\"D:\\images\"\n",
    "dir_list=os.listdir(path)\n",
    "image_file_list=[file for file in dir_list if file.endswith(\".jfif\")]\n",
    "for image_file in image_file_list:\n",
    "    image_path=os.path.join(path,image_file)\n",
    "    imag=Image.open(image_path)\n",
    "    # Blur the image\n",
    "    img1 = imag.filter( EMBOSS)\n",
    "    img1.show()"
   ]
  },
  {
   "cell_type": "code",
   "execution_count": null,
   "id": "0ed661a1",
   "metadata": {},
   "outputs": [],
   "source": []
  }
 ],
 "metadata": {
  "kernelspec": {
   "display_name": "Python 3 (ipykernel)",
   "language": "python",
   "name": "python3"
  },
  "language_info": {
   "codemirror_mode": {
    "name": "ipython",
    "version": 3
   },
   "file_extension": ".py",
   "mimetype": "text/x-python",
   "name": "python",
   "nbconvert_exporter": "python",
   "pygments_lexer": "ipython3",
   "version": "3.9.7"
  }
 },
 "nbformat": 4,
 "nbformat_minor": 5
}
