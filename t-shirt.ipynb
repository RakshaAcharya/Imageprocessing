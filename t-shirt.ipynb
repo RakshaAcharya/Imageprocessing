{
 "cells": [
  {
   "cell_type": "code",
   "execution_count": 1,
   "id": "7f116d9c",
   "metadata": {},
   "outputs": [],
   "source": [
    "import cv2\n",
    "import numpy as np\n",
    "image= cv2.imread('t-shirt.jfif')\n",
    "text=\"Nike\"\n",
    "font =cv2.FONT_HERSHEY_SIMPLEX\n",
    "position=(260,310)\n",
    "font_scale=1\n",
    "color=(0,0,0)\n",
    "thickness=20\n",
    "cv2.putText(image,text,position,font,font_scale,color,thickness,cv2.LINE_AA)\n",
    "cv2.imshow(\"Modified Image\",image)\n",
    "cv2.waitKey(0)\n",
    "cv2.destroyAllWindows()"
   ]
  },
  {
   "cell_type": "code",
   "execution_count": null,
   "id": "5884c9a3",
   "metadata": {},
   "outputs": [],
   "source": []
  }
 ],
 "metadata": {
  "kernelspec": {
   "display_name": "Python 3 (ipykernel)",
   "language": "python",
   "name": "python3"
  },
  "language_info": {
   "codemirror_mode": {
    "name": "ipython",
    "version": 3
   },
   "file_extension": ".py",
   "mimetype": "text/x-python",
   "name": "python",
   "nbconvert_exporter": "python",
   "pygments_lexer": "ipython3",
   "version": "3.9.7"
  }
 },
 "nbformat": 4,
 "nbformat_minor": 5
}
