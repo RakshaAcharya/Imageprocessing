{
 "cells": [
  {
   "cell_type": "code",
   "execution_count": 2,
   "id": "e942cf47",
   "metadata": {},
   "outputs": [],
   "source": [
    "import cv2\n",
    "import numpy as np\n",
    "\n",
    "# read the input image\n",
    "img = cv2.imread('d1.jfif')\n",
    "\n",
    "# access the image height and width\n",
    "rows,cols,_ = img.shape\n",
    "\n",
    "# define at three point on input image\n",
    "pts1 = np.float32([[50,50],[200,50],[50,200]])\n",
    "\n",
    "# define three points corresponding location to output image\n",
    "pts2 = np.float32([[10,100],[200,50],[100,250]])\n",
    "\n",
    "# get the affine transformation Matrix\n",
    "M = cv2.getAffineTransform(pts1,pts2)\n",
    "\n",
    "# apply affine transformation on the input image\n",
    "dst = cv2.warpAffine(img,M,(cols,rows))\n",
    "cv2.imshow(\"Affine Transform\", dst)\n",
    "cv2.waitKey(0)\n",
    "cv2.destroyAllWindows()"
   ]
  },
  {
   "cell_type": "code",
   "execution_count": null,
   "id": "795452e0",
   "metadata": {},
   "outputs": [],
   "source": []
  }
 ],
 "metadata": {
  "kernelspec": {
   "display_name": "Python 3 (ipykernel)",
   "language": "python",
   "name": "python3"
  },
  "language_info": {
   "codemirror_mode": {
    "name": "ipython",
    "version": 3
   },
   "file_extension": ".py",
   "mimetype": "text/x-python",
   "name": "python",
   "nbconvert_exporter": "python",
   "pygments_lexer": "ipython3",
   "version": "3.9.7"
  }
 },
 "nbformat": 4,
 "nbformat_minor": 5
}
