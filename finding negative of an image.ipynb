{
 "cells": [
  {
   "cell_type": "code",
   "execution_count": 1,
   "id": "8faf6f08",
   "metadata": {},
   "outputs": [
    {
     "data": {
      "image/png": "[encoded data removed]",
      "text/plain": [
       "<Figure size 432x288 with 1 Axes>"
      ]
     },
     "metadata": {
      "needs_background": "light"
     },
     "output_type": "display_data"
    }
   ],
   "source": [
    "#finding negative of an image\n",
    "# We need cv2 module for image \n",
    "# reading and matplotlib module\n",
    "# for plotting\n",
    "import cv2\n",
    "import matplotlib.pyplot as plt\n",
    "   \n",
    "img_bgr = cv2.imread('C:/Users/User/Downloads/dog.jfif', 1)\n",
    "   \n",
    "color = ('b', 'g', 'r')\n",
    "  \n",
    "for i, col in enumerate(color):\n",
    "    histr = cv2.calcHist([img_bgr], [i], None, [256], [0, 256])\n",
    "    plt.plot(histr, color = col)\n",
    "    plt.xlim([0, 256])\n",
    "      \n",
    "plt.show()"
   ]
  },
  {
   "cell_type": "code",
   "execution_count": 8,
   "id": "909eb94c",
   "metadata": {},
   "outputs": [],
   "source": [
    "#write texting on image\n",
    "# Importing the PIL library\n",
    "from PIL import Image\n",
    "from PIL import ImageDraw\n",
    " \n",
    "# Open an Image\n",
    "img = Image.open('C:/Users/User/Downloads/dog.jfif')\n",
    " \n",
    "# Call draw Method to add 2D graphics in an image\n",
    "I1 = ImageDraw.Draw(img)\n",
    " \n",
    "# Add Text to an image\n",
    "I1.text((26,39), \"Misty\", fill=(255, 0, 0))\n",
    " \n",
    "# Display edited image\n",
    "img.show()\n",
    " \n",
    "# Save the edited image\n",
    "img.save(\"C:/Users/User/Downloads/dog.jfif\")"
   ]
  },
  {
   "cell_type": "code",
   "execution_count": 6,
   "id": "17e80f22",
   "metadata": {},
   "outputs": [
    {
     "ename": "OSError",
     "evalue": "cannot open resource",
     "output_type": "error",
     "traceback": [
      "\u001b[1;31m---------------------------------------------------------------------------\u001b[0m",
      "\u001b[1;31mOSError\u001b[0m                                   Traceback (most recent call last)",
      "\u001b[1;32m~\\AppData\\Local\\Temp/ipykernel_5048/2247680900.py\u001b[0m in \u001b[0;36m<module>\u001b[1;34m\u001b[0m\n\u001b[0;32m     11\u001b[0m \u001b[1;33m\u001b[0m\u001b[0m\n\u001b[0;32m     12\u001b[0m \u001b[1;31m# Custom font style and font size\u001b[0m\u001b[1;33m\u001b[0m\u001b[1;33m\u001b[0m\u001b[0m\n\u001b[1;32m---> 13\u001b[1;33m \u001b[0mmyFont\u001b[0m \u001b[1;33m=\u001b[0m \u001b[0mImageFont\u001b[0m\u001b[1;33m.\u001b[0m\u001b[0mtruetype\u001b[0m\u001b[1;33m(\u001b[0m\u001b[1;34m'FreeMono.ttf'\u001b[0m\u001b[1;33m,\u001b[0m \u001b[1;36m65\u001b[0m\u001b[1;33m)\u001b[0m\u001b[1;33m\u001b[0m\u001b[1;33m\u001b[0m\u001b[0m\n\u001b[0m\u001b[0;32m     14\u001b[0m \u001b[1;33m\u001b[0m\u001b[0m\n\u001b[0;32m     15\u001b[0m \u001b[1;31m# Add Text to an image\u001b[0m\u001b[1;33m\u001b[0m\u001b[1;33m\u001b[0m\u001b[0m\n",
      "\u001b[1;32mC:\\ProgramData\\Anaconda3\\lib\\site-packages\\PIL\\ImageFont.py\u001b[0m in \u001b[0;36mtruetype\u001b[1;34m(font, size, index, encoding, layout_engine)\u001b[0m\n\u001b[0;32m    853\u001b[0m \u001b[1;33m\u001b[0m\u001b[0m\n\u001b[0;32m    854\u001b[0m     \u001b[1;32mtry\u001b[0m\u001b[1;33m:\u001b[0m\u001b[1;33m\u001b[0m\u001b[1;33m\u001b[0m\u001b[0m\n\u001b[1;32m--> 855\u001b[1;33m         \u001b[1;32mreturn\u001b[0m \u001b[0mfreetype\u001b[0m\u001b[1;33m(\u001b[0m\u001b[0mfont\u001b[0m\u001b[1;33m)\u001b[0m\u001b[1;33m\u001b[0m\u001b[1;33m\u001b[0m\u001b[0m\n\u001b[0m\u001b[0;32m    856\u001b[0m     \u001b[1;32mexcept\u001b[0m \u001b[0mOSError\u001b[0m\u001b[1;33m:\u001b[0m\u001b[1;33m\u001b[0m\u001b[1;33m\u001b[0m\u001b[0m\n\u001b[0;32m    857\u001b[0m         \u001b[1;32mif\u001b[0m \u001b[1;32mnot\u001b[0m \u001b[0misPath\u001b[0m\u001b[1;33m(\u001b[0m\u001b[0mfont\u001b[0m\u001b[1;33m)\u001b[0m\u001b[1;33m:\u001b[0m\u001b[1;33m\u001b[0m\u001b[1;33m\u001b[0m\u001b[0m\n",
      "\u001b[1;32mC:\\ProgramData\\Anaconda3\\lib\\site-packages\\PIL\\ImageFont.py\u001b[0m in \u001b[0;36mfreetype\u001b[1;34m(font)\u001b[0m\n\u001b[0;32m    850\u001b[0m \u001b[1;33m\u001b[0m\u001b[0m\n\u001b[0;32m    851\u001b[0m     \u001b[1;32mdef\u001b[0m \u001b[0mfreetype\u001b[0m\u001b[1;33m(\u001b[0m\u001b[0mfont\u001b[0m\u001b[1;33m)\u001b[0m\u001b[1;33m:\u001b[0m\u001b[1;33m\u001b[0m\u001b[1;33m\u001b[0m\u001b[0m\n\u001b[1;32m--> 852\u001b[1;33m         \u001b[1;32mreturn\u001b[0m \u001b[0mFreeTypeFont\u001b[0m\u001b[1;33m(\u001b[0m\u001b[0mfont\u001b[0m\u001b[1;33m,\u001b[0m \u001b[0msize\u001b[0m\u001b[1;33m,\u001b[0m \u001b[0mindex\u001b[0m\u001b[1;33m,\u001b[0m \u001b[0mencoding\u001b[0m\u001b[1;33m,\u001b[0m \u001b[0mlayout_engine\u001b[0m\u001b[1;33m)\u001b[0m\u001b[1;33m\u001b[0m\u001b[1;33m\u001b[0m\u001b[0m\n\u001b[0m\u001b[0;32m    853\u001b[0m \u001b[1;33m\u001b[0m\u001b[0m\n\u001b[0;32m    854\u001b[0m     \u001b[1;32mtry\u001b[0m\u001b[1;33m:\u001b[0m\u001b[1;33m\u001b[0m\u001b[1;33m\u001b[0m\u001b[0m\n",
      "\u001b[1;32mC:\\ProgramData\\Anaconda3\\lib\\site-packages\\PIL\\ImageFont.py\u001b[0m in \u001b[0;36m__init__\u001b[1;34m(self, font, size, index, encoding, layout_engine)\u001b[0m\n\u001b[0;32m    209\u001b[0m                         \u001b[0mload_from_bytes\u001b[0m\u001b[1;33m(\u001b[0m\u001b[0mf\u001b[0m\u001b[1;33m)\u001b[0m\u001b[1;33m\u001b[0m\u001b[1;33m\u001b[0m\u001b[0m\n\u001b[0;32m    210\u001b[0m                     \u001b[1;32mreturn\u001b[0m\u001b[1;33m\u001b[0m\u001b[1;33m\u001b[0m\u001b[0m\n\u001b[1;32m--> 211\u001b[1;33m             self.font = core.getfont(\n\u001b[0m\u001b[0;32m    212\u001b[0m                 \u001b[0mfont\u001b[0m\u001b[1;33m,\u001b[0m \u001b[0msize\u001b[0m\u001b[1;33m,\u001b[0m \u001b[0mindex\u001b[0m\u001b[1;33m,\u001b[0m \u001b[0mencoding\u001b[0m\u001b[1;33m,\u001b[0m \u001b[0mlayout_engine\u001b[0m\u001b[1;33m=\u001b[0m\u001b[0mlayout_engine\u001b[0m\u001b[1;33m\u001b[0m\u001b[1;33m\u001b[0m\u001b[0m\n\u001b[0;32m    213\u001b[0m             )\n",
      "\u001b[1;31mOSError\u001b[0m: cannot open resource"
     ]
    }
   ],
   "source": [
    "# Importing the PIL library\n",
    "from PIL import Image\n",
    "from PIL import ImageDraw\n",
    "from PIL import ImageFont\n",
    " \n",
    "# Open an Image\n",
    "img = Image.open('C:/Users/User/Downloads/dog.jfif')\n",
    " \n",
    "# Call draw Method to add 2D graphics in an image\n",
    "I1 = ImageDraw.Draw(img)\n",
    " \n",
    "# Custom font style and font size\n",
    "myFont = ImageFont.truetype('FreeMono.ttf', 65)\n",
    " \n",
    "# Add Text to an image\n",
    "I1.text((10, 10), \"Nice Car\", font=myFont, fill =(255, 0, 0))\n",
    " \n",
    "# Display edited image\n",
    "img.show()\n",
    " \n",
    "# Save the edited image\n",
    "img.save(\"C:/Users/User/Downloads/dog.jfif\")"
   ]
  },
  {
   "cell_type": "code",
   "execution_count": 10,
   "id": "91a33385",
   "metadata": {},
   "outputs": [],
   "source": [
    "# importing cv2\n",
    "import cv2\n",
    "    \n",
    "# path\n",
    "path = r'C:/Users/User/Downloads/dog.jfif'\n",
    "    \n",
    "# Reading an image in default mode\n",
    "image = cv2.imread(path)\n",
    "    \n",
    "# Window name in which image is displayed\n",
    "window_name = 'Image'\n",
    "  \n",
    "# font\n",
    "font = cv2.FONT_HERSHEY_SIMPLEX\n",
    "  \n",
    "# org\n",
    "org = (50, 50)\n",
    "  \n",
    "# fontScale\n",
    "fontScale = 1\n",
    "   \n",
    "# Blue color in BGR\n",
    "color = (255, 0, 0)\n",
    "  \n",
    "# Line thickness of 2 px\n",
    "thickness = 2\n",
    "   \n",
    "# Using cv2.putText() method\n",
    "image = cv2.putText(image, 'OpenCV', org, font, \n",
    "                   fontScale, color, thickness, cv2.LINE_AA)\n",
    "   \n",
    "# Displaying the image\n",
    "cv2.imshow(window_name, image) \n"
   ]
  },
  {
   "cell_type": "code",
   "execution_count": 15,
   "id": "b5dfe8d4",
   "metadata": {},
   "outputs": [],
   "source": [
    "#texting in image\n",
    "import numpy as np\n",
    "import cv2\n",
    "image=cv2.imread(r\"C:/Users/User/Downloads/dog.jfif\",cv2.IMREAD_UNCHANGED)\n",
    "position=(10,30)\n",
    "cv2.putText(image,\"MISTY\",position,cv2.FONT_HERSHEY_COMPLEX,1,(0,0,0),2)\n",
    "cv2.imwrite('output.png',image)\n",
    "cv2.imshow('C:/Users/User/Downloads/t-shirt.jfif',image)\n",
    "cv2.waitKey()\n",
    "cv2.destroyAllWindows()"
   ]
  },
  {
   "cell_type": "code",
   "execution_count": 16,
   "id": "32ed9125",
   "metadata": {},
   "outputs": [],
   "source": [
    "#write texting on image\n",
    "# Importing the PIL library\n",
    "from PIL import Image\n",
    "from PIL import ImageDraw\n",
    " \n",
    "# Open an Image\n",
    "img = Image.open('C:/Users/User/Downloads/t-shirt.jfif')\n",
    " \n",
    "# Call draw Method to add 2D graphics in an image\n",
    "I1 = ImageDraw.Draw(img)\n",
    " \n",
    "# Add Text to an image\n",
    "I1.text((26,39), \"Nike\", fill=(255, 0, 0))\n",
    " \n",
    "# Display edited image\n",
    "img.show()\n",
    " \n",
    "# Save the edited image\n",
    "img.save(\"C:/Users/User/Downloads/t-shirt.jfif\")"
   ]
  },
  {
   "cell_type": "code",
   "execution_count": null,
   "id": "28ec94d6",
   "metadata": {},
   "outputs": [],
   "source": [
    "#texting in image\n",
    "import numpy as np\n",
    "import cv2\n",
    "image=cv2.imread(r\"C:/Users/User/Downloads/dog.jfif\",cv2.IMREAD_UNCHANGED)\n",
    "position=(10,30)\n",
    "cv2.putText(image,\"MISTY\",position,cv2.FONT_HERSHEY_COMPLEX,1,(0,0,0),2)\n",
    "cv2.imwrite('output.png',image)\n",
    "cv2.imshow('C:/Users/User/Downloads/t-shirt.jfif',image)\n",
    "cv2.waitKey()\n",
    "cv2.destroyAllWindows()"
   ]
  }
 ],
 "metadata": {
  "kernelspec": {
   "display_name": "Python 3 (ipykernel)",
   "language": "python",
   "name": "python3"
  },
  "language_info": {
   "codemirror_mode": {
    "name": "ipython",
    "version": 3
   },
   "file_extension": ".py",
   "mimetype": "text/x-python",
   "name": "python",
   "nbconvert_exporter": "python",
   "pygments_lexer": "ipython3",
   "version": "3.9.7"
  }
 },
 "nbformat": 4,
 "nbformat_minor": 5
}
