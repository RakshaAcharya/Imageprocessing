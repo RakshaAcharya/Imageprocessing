{
 "cells": [
  {
   "cell_type": "code",
   "execution_count": null,
   "id": "31f6e22a",
   "metadata": {},
   "outputs": [
    {
     "name": "stdout",
     "output_type": "stream",
     "text": [
      "(259, 195, 3)\n"
     ]
    }
   ],
   "source": [
    "import numpy as np\n",
    "import cv2\n",
    "\n",
    "image = cv2.imread('shirt.jfif',cv2.IMREAD_UNCHANGED)\n",
    "print(image.shape)\n",
    "\n",
    "position = (60,130)\n",
    "cv2.putText(\n",
    "     image, #numpy array on which text is written\n",
    "     \"Nike\", #text\n",
    "     position, #position at which writing has to start\n",
    "     cv2.FONT_HERSHEY_SIMPLEX, #font family\n",
    "     1.2, #font size\n",
    "     (0, 0, 0, 0), #font color\n",
    "     4) #font stroke\n",
    "cv2.imshow('output.png', image)\n",
    "cv2.waitKey(0)\n",
    "cv2.destroyAllWindows()"
   ]
  },
  {
   "cell_type": "code",
   "execution_count": 1,
   "id": "e42b0eaf",
   "metadata": {},
   "outputs": [
    {
     "name": "stdout",
     "output_type": "stream",
     "text": [
      "Mode of data set 1 is 6\n",
      "Median of data set 1 is 5\n",
      "Mean of data set 1 is 4.818181818181818\n"
     ]
    }
   ],
   "source": [
    "#statistcs\n",
    "from statistics import mode,mean,median\n",
    "import statistics\n",
    "data1=(2,3,3,4,6,5,7,5,6,6,6)\n",
    "print(\"Mode of data set 1 is % s\"%(mode(data1)))\n",
    "print(\"Median of data set 1 is % s\"%(statistics.median(data1)))\n",
    "print(\"Mean of data set 1 is % s\"%(mean(data1)))"
   ]
  },
  {
   "cell_type": "code",
   "execution_count": null,
   "id": "4fe8b506",
   "metadata": {},
   "outputs": [],
   "source": []
  }
 ],
 "metadata": {
  "kernelspec": {
   "display_name": "Python 3 (ipykernel)",
   "language": "python",
   "name": "python3"
  },
  "language_info": {
   "codemirror_mode": {
    "name": "ipython",
    "version": 3
   },
   "file_extension": ".py",
   "mimetype": "text/x-python",
   "name": "python",
   "nbconvert_exporter": "python",
   "pygments_lexer": "ipython3",
   "version": "3.9.7"
  }
 },
 "nbformat": 4,
 "nbformat_minor": 5
}
